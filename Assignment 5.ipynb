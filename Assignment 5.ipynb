{
 "cells": [
  {
   "cell_type": "code",
   "execution_count": 18,
   "id": "5955889f",
   "metadata": {},
   "outputs": [
    {
     "name": "stdout",
     "output_type": "stream",
     "text": [
      "a = 1\n",
      "b = 2\n",
      "c = 3\n",
      "3\n",
      "3\n",
      "3\n",
      "Can't form a triangle.\n"
     ]
    }
   ],
   "source": [
    "#Zadanie 1\n",
    "\n",
    "a = int(input('a = '))\n",
    "b = int(input('b = '))\n",
    "c = int(input('c = '))\n",
    "\n",
    "import math\n",
    "print(max(a, b, c))\n",
    "\n",
    "najdluzszy_bok = max(a, b, c)\n",
    "print(najdluzszy_bok)\n",
    "\n",
    "reszta = (a + b + c) - najdluzszy_bok\n",
    "print(reszta)\n",
    "\n",
    "if najdluzszy_bok < reszta:\n",
    "    print(\"Can form a triangle.\")\n",
    "else:\n",
    "    print(\"Can't form a triangle.\")"
   ]
  },
  {
   "cell_type": "code",
   "execution_count": 109,
   "id": "4d92caa9",
   "metadata": {},
   "outputs": [
    {
     "name": "stdout",
     "output_type": "stream",
     "text": [
      "Please provide PIN number: 768\n",
      "Pin not OK.\n",
      "Please provide PIN number: 7654\n",
      "Pin OK.\n",
      "Please provide PIN number again: 7654\n",
      "Validation successful!\n"
     ]
    }
   ],
   "source": [
    "#Zadanie 2\n",
    "\n",
    "pin = input('Please provide PIN number: ')\n",
    "len_pin = len(pin)\n",
    "\n",
    "if (len(pin) == 4 or len(pin) == 6) and pin.isdigit():\n",
    "    print('Pin OK.')\n",
    "else:\n",
    "    print('Pin not OK.')\n",
    "    pin = input('Please provide PIN number: ')\n",
    "    len_pin = len(pin)\n",
    "    \n",
    "#--------------------------------\n",
    "\n",
    "a = {x for x in pin}\n",
    "len(a)\n",
    "\n",
    "if len(a) == len_pin:\n",
    "    print(\"Pin OK.\")\n",
    "else:\n",
    "    print(\"Pin not OK.\")\n",
    "    pin = input('Please provide PIN number: ')\n",
    "    len_pin = len(pin)\n",
    "    \n",
    "#---------------------------------\n",
    "\n",
    "second_pin = input('Please provide PIN number again: ')\n",
    "if pin == second_pin:\n",
    "    print('Validation successful!')\n",
    "else:\n",
    "    print('Try again!')\n",
    "    second_pin = input('Please provide PIN number: ')\n"
   ]
  }
 ],
 "metadata": {
  "kernelspec": {
   "display_name": "Python 3 (ipykernel)",
   "language": "python",
   "name": "python3"
  },
  "language_info": {
   "codemirror_mode": {
    "name": "ipython",
    "version": 3
   },
   "file_extension": ".py",
   "mimetype": "text/x-python",
   "name": "python",
   "nbconvert_exporter": "python",
   "pygments_lexer": "ipython3",
   "version": "3.9.13"
  }
 },
 "nbformat": 4,
 "nbformat_minor": 5
}
