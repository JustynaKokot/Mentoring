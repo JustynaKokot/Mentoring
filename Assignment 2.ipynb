{
 "cells": [
  {
   "cell_type": "code",
   "execution_count": 68,
   "id": "55016d7f",
   "metadata": {},
   "outputs": [
    {
     "name": "stdout",
     "output_type": "stream",
     "text": [
      "Requirement already satisfied: pytest in c:\\users\\justy\\anaconda3\\lib\\site-packages (8.0.2)\n",
      "Requirement already satisfied: ipytest in c:\\users\\justy\\anaconda3\\lib\\site-packages (0.14.0)\n",
      "Requirement already satisfied: exceptiongroup>=1.0.0rc8 in c:\\users\\justy\\anaconda3\\lib\\site-packages (from pytest) (1.2.0)\n",
      "Requirement already satisfied: tomli>=1.0.0 in c:\\users\\justy\\anaconda3\\lib\\site-packages (from pytest) (2.0.1)\n",
      "Requirement already satisfied: packaging in c:\\users\\justy\\anaconda3\\lib\\site-packages (from pytest) (21.3)\n",
      "Requirement already satisfied: pluggy<2.0,>=1.3.0 in c:\\users\\justy\\anaconda3\\lib\\site-packages (from pytest) (1.4.0)\n",
      "Requirement already satisfied: iniconfig in c:\\users\\justy\\anaconda3\\lib\\site-packages (from pytest) (1.1.1)\n",
      "Requirement already satisfied: colorama in c:\\users\\justy\\anaconda3\\lib\\site-packages (from pytest) (0.4.5)\n",
      "Requirement already satisfied: ipython in c:\\users\\justy\\anaconda3\\lib\\site-packages (from ipytest) (7.31.1)\n",
      "Requirement already satisfied: pygments in c:\\users\\justy\\anaconda3\\lib\\site-packages (from ipython->ipytest) (2.11.2)\n",
      "Requirement already satisfied: backcall in c:\\users\\justy\\anaconda3\\lib\\site-packages (from ipython->ipytest) (0.2.0)\n",
      "Requirement already satisfied: setuptools>=18.5 in c:\\users\\justy\\anaconda3\\lib\\site-packages (from ipython->ipytest) (63.4.1)\n",
      "Requirement already satisfied: decorator in c:\\users\\justy\\anaconda3\\lib\\site-packages (from ipython->ipytest) (5.1.1)\n",
      "Requirement already satisfied: matplotlib-inline in c:\\users\\justy\\anaconda3\\lib\\site-packages (from ipython->ipytest) (0.1.6)\n",
      "Requirement already satisfied: pickleshare in c:\\users\\justy\\anaconda3\\lib\\site-packages (from ipython->ipytest) (0.7.5)\n",
      "Requirement already satisfied: prompt-toolkit!=3.0.0,!=3.0.1,<3.1.0,>=2.0.0 in c:\\users\\justy\\anaconda3\\lib\\site-packages (from ipython->ipytest) (3.0.20)\n",
      "Requirement already satisfied: jedi>=0.16 in c:\\users\\justy\\anaconda3\\lib\\site-packages (from ipython->ipytest) (0.18.1)\n",
      "Requirement already satisfied: traitlets>=4.2 in c:\\users\\justy\\anaconda3\\lib\\site-packages (from ipython->ipytest) (5.1.1)\n",
      "Requirement already satisfied: pyparsing!=3.0.5,>=2.0.2 in c:\\users\\justy\\anaconda3\\lib\\site-packages (from packaging->pytest) (3.0.9)\n",
      "Requirement already satisfied: parso<0.9.0,>=0.8.0 in c:\\users\\justy\\anaconda3\\lib\\site-packages (from jedi>=0.16->ipython->ipytest) (0.8.3)\n",
      "Requirement already satisfied: wcwidth in c:\\users\\justy\\anaconda3\\lib\\site-packages (from prompt-toolkit!=3.0.0,!=3.0.1,<3.1.0,>=2.0.0->ipython->ipytest) (0.2.5)\n"
     ]
    }
   ],
   "source": [
    "!pip install pytest ipytest\n"
   ]
  },
  {
   "cell_type": "code",
   "execution_count": 69,
   "id": "af8bb952",
   "metadata": {},
   "outputs": [],
   "source": [
    "import ipytest\n",
    "ipytest.autoconfig()"
   ]
  },
  {
   "cell_type": "code",
   "execution_count": 70,
   "id": "2cdddc0c",
   "metadata": {},
   "outputs": [],
   "source": [
    "def test_addition():\n",
    "    assert 1 + 1 == 2"
   ]
  },
  {
   "cell_type": "code",
   "execution_count": 71,
   "id": "96b65978",
   "metadata": {},
   "outputs": [
    {
     "name": "stdout",
     "output_type": "stream",
     "text": [
      "\u001b[1m======================================= test session starts =======================================\u001b[0m\n",
      "platform win32 -- Python 3.9.13, pytest-8.0.2, pluggy-1.4.0 -- C:\\Users\\justy\\anaconda3\\python.exe\n",
      "cachedir: .pytest_cache\n",
      "rootdir: C:\\Users\\justy\n",
      "plugins: anyio-3.5.0\n",
      "\u001b[1mcollecting ... \u001b[0mcollected 2 items\n",
      "\n",
      "t_96ffd3fabe8a42769542e9175b457bba.py::test_answer \u001b[31mFAILED\u001b[0m\u001b[31m                                    [ 50%]\u001b[0m\n",
      "t_96ffd3fabe8a42769542e9175b457bba.py::test_addition \u001b[32mPASSED\u001b[0m\u001b[31m                                  [100%]\u001b[0m\n",
      "\n",
      "============================================ FAILURES =============================================\n",
      "\u001b[31m\u001b[1m___________________________________________ test_answer ___________________________________________\u001b[0m\n",
      "\n",
      "    \u001b[0m\u001b[94mdef\u001b[39;49;00m \u001b[92mtest_answer\u001b[39;49;00m():\n",
      ">       \u001b[94massert\u001b[39;49;00m func(\u001b[94m3\u001b[39;49;00m) == \u001b[94m5\u001b[39;49;00m\n",
      "\u001b[1m\u001b[31mE       AssertionError\u001b[0m\n",
      "\n",
      "\u001b[1m\u001b[31mC:\\Users\\justy\\AppData\\Local\\Temp\\ipykernel_13144\\1972220903.py\u001b[0m:6: AssertionError\n",
      "\u001b[36m\u001b[1m===================================== short test summary info =====================================\u001b[0m\n",
      "\u001b[31mFAILED\u001b[0m t_96ffd3fabe8a42769542e9175b457bba.py::\u001b[1mtest_answer\u001b[0m - AssertionError\n",
      "\u001b[31m=================================== \u001b[31m\u001b[1m1 failed\u001b[0m, \u001b[32m1 passed\u001b[0m\u001b[31m in 0.11s\u001b[0m\u001b[31m ===================================\u001b[0m\n"
     ]
    },
    {
     "data": {
      "text/plain": [
       "<ExitCode.TESTS_FAILED: 1>"
      ]
     },
     "execution_count": 71,
     "metadata": {},
     "output_type": "execute_result"
    }
   ],
   "source": [
    "ipytest.run('-vv')"
   ]
  },
  {
   "cell_type": "code",
   "execution_count": 74,
   "id": "42c9b2f7",
   "metadata": {},
   "outputs": [],
   "source": [
    "def func(x):\n",
    "    return x + 1\n",
    "\n",
    "\n",
    "def test_answer():\n",
    "    assert func(4) == 5"
   ]
  },
  {
   "cell_type": "code",
   "execution_count": 75,
   "id": "5158706c",
   "metadata": {},
   "outputs": [
    {
     "name": "stdout",
     "output_type": "stream",
     "text": [
      "\u001b[1m======================================= test session starts =======================================\u001b[0m\n",
      "platform win32 -- Python 3.9.13, pytest-8.0.2, pluggy-1.4.0 -- C:\\Users\\justy\\anaconda3\\python.exe\n",
      "cachedir: .pytest_cache\n",
      "rootdir: C:\\Users\\justy\n",
      "plugins: anyio-3.5.0\n",
      "\u001b[1mcollecting ... \u001b[0mcollected 2 items\n",
      "\n",
      "t_96ffd3fabe8a42769542e9175b457bba.py::test_answer \u001b[32mPASSED\u001b[0m\u001b[32m                                    [ 50%]\u001b[0m\n",
      "t_96ffd3fabe8a42769542e9175b457bba.py::test_addition \u001b[32mPASSED\u001b[0m\u001b[32m                                  [100%]\u001b[0m\n",
      "\n",
      "\u001b[32m======================================== \u001b[32m\u001b[1m2 passed\u001b[0m\u001b[32m in 0.03s\u001b[0m\u001b[32m ========================================\u001b[0m\n"
     ]
    },
    {
     "data": {
      "text/plain": [
       "<ExitCode.OK: 0>"
      ]
     },
     "execution_count": 75,
     "metadata": {},
     "output_type": "execute_result"
    }
   ],
   "source": [
    "ipytest.run('-vv')"
   ]
  },
  {
   "cell_type": "code",
   "execution_count": 79,
   "id": "25c508b6",
   "metadata": {},
   "outputs": [
    {
     "name": "stdout",
     "output_type": "stream",
     "text": [
      "Please provide a word: Pies\n",
      "Reversed word: seiP\n"
     ]
    },
    {
     "data": {
      "text/plain": [
       "str"
      ]
     },
     "execution_count": 79,
     "metadata": {},
     "output_type": "execute_result"
    }
   ],
   "source": [
    "#Zadanie 1\n",
    "\n",
    "word = input(str('Please provide a word: '))\n",
    "print(f'Reversed word: {word[::-1]}')\n",
    "type(word)\n",
    "\n"
   ]
  },
  {
   "cell_type": "code",
   "execution_count": 80,
   "id": "72b56087",
   "metadata": {},
   "outputs": [
    {
     "name": "stdout",
     "output_type": "stream",
     "text": [
      "Please provide a word: Pies\n",
      "Reversed word: seiP\n"
     ]
    }
   ],
   "source": [
    "#Zadanie 1 - test z PyTest\n",
    "\n",
    "word = input(str('Please provide a word: '))\n",
    "print(f'Reversed word: {word[::-1]}')\n",
    "type(word)\n",
    "\n",
    "def test_answer():\n",
    "    assert type(word) == str"
   ]
  },
  {
   "cell_type": "code",
   "execution_count": 81,
   "id": "8c9ad56e",
   "metadata": {},
   "outputs": [
    {
     "name": "stdout",
     "output_type": "stream",
     "text": [
      "\u001b[1m======================================= test session starts =======================================\u001b[0m\n",
      "platform win32 -- Python 3.9.13, pytest-8.0.2, pluggy-1.4.0 -- C:\\Users\\justy\\anaconda3\\python.exe\n",
      "cachedir: .pytest_cache\n",
      "rootdir: C:\\Users\\justy\n",
      "plugins: anyio-3.5.0\n",
      "\u001b[1mcollecting ... \u001b[0mcollected 2 items\n",
      "\n",
      "t_96ffd3fabe8a42769542e9175b457bba.py::test_answer \u001b[32mPASSED\u001b[0m\u001b[32m                                    [ 50%]\u001b[0m\n",
      "t_96ffd3fabe8a42769542e9175b457bba.py::test_addition \u001b[32mPASSED\u001b[0m\u001b[32m                                  [100%]\u001b[0m\n",
      "\n",
      "\u001b[32m======================================== \u001b[32m\u001b[1m2 passed\u001b[0m\u001b[32m in 0.04s\u001b[0m\u001b[32m ========================================\u001b[0m\n"
     ]
    },
    {
     "data": {
      "text/plain": [
       "<ExitCode.OK: 0>"
      ]
     },
     "execution_count": 81,
     "metadata": {},
     "output_type": "execute_result"
    }
   ],
   "source": [
    "#Zadanie 1 - test z PyTest cd.\n",
    "\n",
    "ipytest.run('-vv')"
   ]
  },
  {
   "cell_type": "code",
   "execution_count": 82,
   "id": "5485175e",
   "metadata": {},
   "outputs": [
    {
     "name": "stdout",
     "output_type": "stream",
     "text": [
      "seiP\n"
     ]
    }
   ],
   "source": [
    "#Zadanie 1 - funkcja\n",
    "\n",
    "def reversed_word(word):\n",
    "    print(word[::-1])\n",
    "\n",
    "reversed_word('Pies')"
   ]
  },
  {
   "cell_type": "code",
   "execution_count": 83,
   "id": "0820c376",
   "metadata": {},
   "outputs": [
    {
     "name": "stdout",
     "output_type": "stream",
     "text": [
      "Please provide a word: Pies\n",
      "Reversed word: seiP\n"
     ]
    }
   ],
   "source": [
    "#Zadanie 1 - instrukcja warunkowa\n",
    "\n",
    "word = input('Please provide a word: ')\n",
    "\n",
    "if type(word) == str:\n",
    "    print(f'Reversed word: {word[::-1]}')\n",
    "else:\n",
    "    print(f'Reversed word: {str(word[::-1])}')"
   ]
  },
  {
   "cell_type": "code",
   "execution_count": 103,
   "id": "740be35e",
   "metadata": {},
   "outputs": [
    {
     "name": "stdout",
     "output_type": "stream",
     "text": [
      "Alice in Wonderland\n",
      "The Little Mermaid \n",
      "Thumbelina \n",
      "Jack and the Beanstalk\n",
      "Alladin and the Wonderful Lamp\n",
      "Beauty and the Beast\n",
      "Master Cat\n",
      "The Wonderful Wizard of Oz\n",
      "Peter Pan\n",
      "The Snow Queen\n",
      "Hansel and Gretel\n",
      "Pionocchio\n",
      "The Ugly Duckling\n",
      "Little Red Riding Hood\n",
      "Sleeping Beauty\n",
      "Three Little Pigs\n",
      "Snow White and the Seven Dwarfs\n"
     ]
    },
    {
     "data": {
      "text/plain": [
       "54"
      ]
     },
     "execution_count": 103,
     "metadata": {},
     "output_type": "execute_result"
    }
   ],
   "source": [
    "#Zadanie 2 z plikiem .txt\n",
    "\n",
    "f = open(r\"C:\\Users\\justy\\OneDrive\\Pulpit\\Zadanie.txt\")\n",
    "zawartosc = f.read()\n",
    "print(zawartosc)\n",
    "\n",
    "len(zawartosc.split())"
   ]
  },
  {
   "cell_type": "code",
   "execution_count": 104,
   "id": "da05f987",
   "metadata": {},
   "outputs": [
    {
     "name": "stdout",
     "output_type": "stream",
     "text": [
      "3\n"
     ]
    }
   ],
   "source": [
    "#Zadanie 4 - liczenie samogłosek w wyrazie\n",
    "\n",
    "vowels = ['a', 'A', 'ą', 'Ą', 'e', 'E', 'ę', 'Ę', 'i', 'I', 'o', 'O', 'u', 'U', 'ó', 'Ó', 'y', 'Y']\n",
    "\n",
    "def number_of_vovwels(word): \n",
    "    word.split()\n",
    "    letters = list(word)\n",
    "    count = 0\n",
    "    for letter in letters:\n",
    "        if letter in vowels:\n",
    "            count += 1\n",
    "    print(count)\n",
    "    \n",
    "number_of_vovwels('piesek')"
   ]
  }
 ],
 "metadata": {
  "kernelspec": {
   "display_name": "Python 3 (ipykernel)",
   "language": "python",
   "name": "python3"
  },
  "language_info": {
   "codemirror_mode": {
    "name": "ipython",
    "version": 3
   },
   "file_extension": ".py",
   "mimetype": "text/x-python",
   "name": "python",
   "nbconvert_exporter": "python",
   "pygments_lexer": "ipython3",
   "version": "3.9.13"
  }
 },
 "nbformat": 4,
 "nbformat_minor": 5
}
