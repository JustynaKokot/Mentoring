{
 "cells": [
  {
   "cell_type": "code",
   "execution_count": 2,
   "id": "8467ffa3",
   "metadata": {},
   "outputs": [
    {
     "name": "stdout",
     "output_type": "stream",
     "text": [
      "Requirement already satisfied: pandas in c:\\users\\justy\\anaconda3\\lib\\site-packages (1.4.4)\n",
      "Requirement already satisfied: pytz>=2020.1 in c:\\users\\justy\\anaconda3\\lib\\site-packages (from pandas) (2022.1)\n",
      "Requirement already satisfied: numpy>=1.18.5 in c:\\users\\justy\\anaconda3\\lib\\site-packages (from pandas) (1.21.5)\n",
      "Requirement already satisfied: python-dateutil>=2.8.1 in c:\\users\\justy\\anaconda3\\lib\\site-packages (from pandas) (2.8.2)\n",
      "Requirement already satisfied: six>=1.5 in c:\\users\\justy\\anaconda3\\lib\\site-packages (from python-dateutil>=2.8.1->pandas) (1.16.0)\n",
      "Note: you may need to restart the kernel to use updated packages.\n"
     ]
    }
   ],
   "source": [
    "pip install pandas"
   ]
  },
  {
   "cell_type": "code",
   "execution_count": 3,
   "id": "37e5a4b3",
   "metadata": {},
   "outputs": [],
   "source": [
    "import pandas as pd"
   ]
  },
  {
   "cell_type": "code",
   "execution_count": 4,
   "id": "fd418487",
   "metadata": {},
   "outputs": [
    {
     "name": "stdout",
     "output_type": "stream",
     "text": [
      "Name: pandas\n",
      "Version: 1.4.4\n",
      "Summary: Powerful data structures for data analysis, time series, and statistics\n",
      "Home-page: https://pandas.pydata.org\n",
      "Author: The Pandas Development Team\n",
      "Author-email: pandas-dev@python.org\n",
      "License: BSD-3-Clause\n",
      "Location: c:\\users\\justy\\anaconda3\\lib\\site-packages\n",
      "Requires: numpy, python-dateutil, pytz\n",
      "Required-by: altair, datashader, holoviews, hvplot, seaborn, statsmodels, streamlit, xarray\n",
      "Note: you may need to restart the kernel to use updated packages.\n"
     ]
    }
   ],
   "source": [
    "pip show pandas"
   ]
  },
  {
   "cell_type": "code",
   "execution_count": 5,
   "id": "18714c06",
   "metadata": {},
   "outputs": [],
   "source": [
    "df = pd.read_csv(r'C:\\Users\\justy\\Downloads\\mieszkania_windows.csv')\n"
   ]
  },
  {
   "cell_type": "code",
   "execution_count": 6,
   "id": "442104ac",
   "metadata": {},
   "outputs": [
    {
     "data": {
      "text/html": [
       "<div>\n",
       "<style scoped>\n",
       "    .dataframe tbody tr th:only-of-type {\n",
       "        vertical-align: middle;\n",
       "    }\n",
       "\n",
       "    .dataframe tbody tr th {\n",
       "        vertical-align: top;\n",
       "    }\n",
       "\n",
       "    .dataframe thead th {\n",
       "        text-align: right;\n",
       "    }\n",
       "</style>\n",
       "<table border=\"1\" class=\"dataframe\">\n",
       "  <thead>\n",
       "    <tr style=\"text-align: right;\">\n",
       "      <th></th>\n",
       "      <th>Kwartal</th>\n",
       "      <th>Rok</th>\n",
       "      <th>Wartosc</th>\n",
       "    </tr>\n",
       "  </thead>\n",
       "  <tbody>\n",
       "    <tr>\n",
       "      <th>0</th>\n",
       "      <td>4</td>\n",
       "      <td>2023</td>\n",
       "      <td>6386</td>\n",
       "    </tr>\n",
       "    <tr>\n",
       "      <th>1</th>\n",
       "      <td>3</td>\n",
       "      <td>2023</td>\n",
       "      <td>6335</td>\n",
       "    </tr>\n",
       "    <tr>\n",
       "      <th>2</th>\n",
       "      <td>2</td>\n",
       "      <td>2023</td>\n",
       "      <td>6134</td>\n",
       "    </tr>\n",
       "    <tr>\n",
       "      <th>3</th>\n",
       "      <td>1</td>\n",
       "      <td>2023</td>\n",
       "      <td>5668</td>\n",
       "    </tr>\n",
       "    <tr>\n",
       "      <th>4</th>\n",
       "      <td>4</td>\n",
       "      <td>2022</td>\n",
       "      <td>5708</td>\n",
       "    </tr>\n",
       "  </tbody>\n",
       "</table>\n",
       "</div>"
      ],
      "text/plain": [
       "   Kwartal   Rok  Wartosc\n",
       "0        4  2023     6386\n",
       "1        3  2023     6335\n",
       "2        2  2023     6134\n",
       "3        1  2023     5668\n",
       "4        4  2022     5708"
      ]
     },
     "execution_count": 6,
     "metadata": {},
     "output_type": "execute_result"
    }
   ],
   "source": [
    "df.head()"
   ]
  },
  {
   "cell_type": "code",
   "execution_count": 7,
   "id": "07e4bf8b",
   "metadata": {},
   "outputs": [
    {
     "name": "stdout",
     "output_type": "stream",
     "text": [
      "Rok\n",
      "1998    1930.00\n",
      "1999    2132.50\n",
      "2000    2281.25\n",
      "2001    2510.00\n",
      "2002    2403.50\n",
      "2003    2238.00\n",
      "2004    2388.75\n",
      "2005    2439.25\n",
      "2006    2545.25\n",
      "2007    2816.00\n",
      "2008    3316.25\n",
      "2009    3891.50\n",
      "2010    4360.25\n",
      "2011    3858.25\n",
      "2012    3996.25\n",
      "2013    4025.25\n",
      "2014    4033.50\n",
      "2015    3969.50\n",
      "2016    4054.00\n",
      "2017    4170.00\n",
      "2018    4237.50\n",
      "2019    4461.25\n",
      "2020    4891.50\n",
      "2021    5134.25\n",
      "2022    5318.75\n",
      "2023    6130.75\n",
      "Name: Wartosc, dtype: float64\n"
     ]
    }
   ],
   "source": [
    "dfy = df.groupby(df['Rok'])['Wartosc'].mean()\n",
    "print(dfy)"
   ]
  },
  {
   "cell_type": "code",
   "execution_count": 8,
   "id": "0c23d43e",
   "metadata": {},
   "outputs": [
    {
     "name": "stdout",
     "output_type": "stream",
     "text": [
      "Requirement already satisfied: tabulate in c:\\users\\justy\\anaconda3\\lib\\site-packages (0.8.10)\n",
      "Note: you may need to restart the kernel to use updated packages.\n"
     ]
    }
   ],
   "source": [
    "pip install tabulate"
   ]
  },
  {
   "cell_type": "code",
   "execution_count": 9,
   "id": "56a6f289",
   "metadata": {},
   "outputs": [
    {
     "name": "stdout",
     "output_type": "stream",
     "text": [
      "|   Rok |   Wartosc |\n",
      "|------:|----------:|\n",
      "|  1998 |   1930    |\n",
      "|  1999 |   2132.5  |\n",
      "|  2000 |   2281.25 |\n",
      "|  2001 |   2510    |\n",
      "|  2002 |   2403.5  |\n",
      "|  2003 |   2238    |\n",
      "|  2004 |   2388.75 |\n",
      "|  2005 |   2439.25 |\n",
      "|  2006 |   2545.25 |\n",
      "|  2007 |   2816    |\n",
      "|  2008 |   3316.25 |\n",
      "|  2009 |   3891.5  |\n",
      "|  2010 |   4360.25 |\n",
      "|  2011 |   3858.25 |\n",
      "|  2012 |   3996.25 |\n",
      "|  2013 |   4025.25 |\n",
      "|  2014 |   4033.5  |\n",
      "|  2015 |   3969.5  |\n",
      "|  2016 |   4054    |\n",
      "|  2017 |   4170    |\n",
      "|  2018 |   4237.5  |\n",
      "|  2019 |   4461.25 |\n",
      "|  2020 |   4891.5  |\n",
      "|  2021 |   5134.25 |\n",
      "|  2022 |   5318.75 |\n",
      "|  2023 |   6130.75 |\n"
     ]
    }
   ],
   "source": [
    "print(dfy.to_markdown())"
   ]
  }
 ],
 "metadata": {
  "kernelspec": {
   "display_name": "Python 3 (ipykernel)",
   "language": "python",
   "name": "python3"
  },
  "language_info": {
   "codemirror_mode": {
    "name": "ipython",
    "version": 3
   },
   "file_extension": ".py",
   "mimetype": "text/x-python",
   "name": "python",
   "nbconvert_exporter": "python",
   "pygments_lexer": "ipython3",
   "version": "3.9.13"
  }
 },
 "nbformat": 4,
 "nbformat_minor": 5
}
